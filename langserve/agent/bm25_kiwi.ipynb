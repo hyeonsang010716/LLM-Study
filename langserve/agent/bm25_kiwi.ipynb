{
  "cells": [
    {
      "cell_type": "code",
      "execution_count": null,
      "metadata": {
        "id": "A4TFAAXzaj2U"
      },
      "outputs": [],
      "source": [
        "!pip install -qU langchain_upstage\n",
        "!pip install -qU kiwipiepy\n",
        "!pip install -qU langchain_chroma\n",
        "!pip install -qU langchain_community\n",
        "!pip install -qU rank_bm25"
      ]
    },
    {
      "cell_type": "code",
      "execution_count": 2,
      "metadata": {
        "colab": {
          "base_uri": "https://localhost:8080/"
        },
        "id": "3P3-YHDGbDJx",
        "outputId": "f548d34a-4856-4a4b-8c1a-80020dd4a4ac"
      },
      "outputs": [
        {
          "data": {
            "text/plain": [
              "[Token(form='안녕', tag='NNG', start=0, len=2),\n",
              " Token(form='하', tag='XSA', start=2, len=1),\n",
              " Token(form='세요', tag='EF', start=3, len=2),\n",
              " Token(form='?', tag='SF', start=5, len=1),\n",
              " Token(form='형태소', tag='NNG', start=7, len=3),\n",
              " Token(form='분석기', tag='NNG', start=11, len=3),\n",
              " Token(form='키위', tag='NNG', start=15, len=2),\n",
              " Token(form='이', tag='VCP', start=17, len=1),\n",
              " Token(form='ᆸ니다', tag='EF', start=17, len=3),\n",
              " Token(form='.', tag='SF', start=20, len=1)]"
            ]
          },
          "execution_count": 2,
          "metadata": {},
          "output_type": "execute_result"
        }
      ],
      "source": [
        "from kiwipiepy import Kiwi\n",
        "\n",
        "kiwi = Kiwi()\n",
        "kiwi.tokenize(\"안녕하세요? 형태소 분석기 키위입니다.\")"
      ]
    },
    {
      "cell_type": "code",
      "execution_count": 3,
      "metadata": {
        "id": "HbbvZrnMbn5a"
      },
      "outputs": [],
      "source": [
        "from langchain_core.documents import Document\n",
        "\n",
        "docs = [\n",
        "    Document(\n",
        "        page_content=\"금융보험은 장기적인 자산 관리와 위험 대비를 목적으로 고안된 금융 상품입니다.\"\n",
        "    ),\n",
        "    Document(\n",
        "        page_content=\"금융저축보험은 규칙적인 저축을 통해 목돈을 마련할 수 있으며, 생명보험 기능도 겸비하고 있습니다.\"\n",
        "    ),\n",
        "    Document(\n",
        "        page_content=\"저축금융보험은 저축과 금융을 통해 목돈 마련에 도움을 주는 보험입니다. 또한, 사망 보장 기능도 제공합니다.\"\n",
        "    ),\n",
        "    Document(\n",
        "        page_content=\"금융저축산물보험은 장기적인 저축 목적과 더불어, 축산물 제공 기능을 갖추고 있는 특별 금융 상품입니다.\"\n",
        "    ),\n",
        "    Document(\n",
        "        page_content=\"금융단폭격보험은 저축은 커녕 위험 대비에 초점을 맞춘 상품입니다. 높은 위험을 감수하고자 하는 고객에게 적합합니다.\"\n",
        "    ),\n",
        "    Document(\n",
        "        page_content=\"금보험은 저축성과를 극대화합니다. 특히 노후 대비 저축에 유리하게 구성되어 있습니다.\"\n",
        "    ),\n",
        "    Document(\n",
        "        page_content=\"금융보씨 험한말 좀 하지마시고, 저축이나 좀 하시던가요. 뭐가 그리 급하신지 모르겠네요.\"\n",
        "    ),\n",
        "]"
      ]
    },
    {
      "cell_type": "code",
      "execution_count": 4,
      "metadata": {
        "colab": {
          "base_uri": "https://localhost:8080/"
        },
        "id": "NvkZuUNddBII",
        "outputId": "cd6eca35-996e-480e-d407-fb9a8f9decad"
      },
      "outputs": [
        {
          "data": {
            "text/plain": [
              "['금융',\n",
              " '보험',\n",
              " '은',\n",
              " '장기',\n",
              " '적',\n",
              " '이',\n",
              " 'ᆫ',\n",
              " '자산',\n",
              " '관리',\n",
              " '와',\n",
              " '위험',\n",
              " '대비',\n",
              " '를',\n",
              " '목적',\n",
              " '으로',\n",
              " '고안',\n",
              " '되',\n",
              " 'ᆫ',\n",
              " '금융',\n",
              " '상품',\n",
              " '이',\n",
              " 'ᆸ니다',\n",
              " '.']"
            ]
          },
          "execution_count": 4,
          "metadata": {},
          "output_type": "execute_result"
        }
      ],
      "source": [
        "def kiwi_toknize(text):\n",
        "    return [token.form for token in kiwi.tokenize(text)]\n",
        "\n",
        "kiwi_toknize(docs[0].page_content)"
      ]
    },
    {
      "cell_type": "code",
      "execution_count": 5,
      "metadata": {
        "id": "TTSXRCVvbMUJ"
      },
      "outputs": [],
      "source": [
        "from langchain_community.retrievers import BM25Retriever\n",
        "\n",
        "bm25 = BM25Retriever.from_documents(docs)\n",
        "kiwi_bm25 = BM25Retriever.from_documents(docs, preprocess_func=kiwi_toknize)"
      ]
    },
    {
      "cell_type": "code",
      "execution_count": 8,
      "metadata": {
        "id": "4MpwYZircAdH"
      },
      "outputs": [],
      "source": [
        "def print_search_results(query):\n",
        "    print(f\"Query: {query}\")\n",
        "    print(f\"BM25: {bm25.invoke(query)[0].page_content}\")\n",
        "    print(f\"Kiwi_BM25: {kiwi_bm25.invoke(query)[0].page_content}\")\n",
        "    print(\"\")\n"
      ]
    },
    {
      "cell_type": "code",
      "execution_count": 9,
      "metadata": {
        "colab": {
          "base_uri": "https://localhost:8080/"
        },
        "id": "xitdUntLeTC3",
        "outputId": "ec711838-8d77-4d0e-f02b-598c9e33cdc9"
      },
      "outputs": [
        {
          "name": "stdout",
          "output_type": "stream",
          "text": [
            "Query: 금융보험\n",
            "BM25: 금융보씨 험한말 좀 하지마시고, 저축이나 좀 하시던가요. 뭐가 그리 급하신지 모르겠네요.\n",
            "Kiwi_BM25: 저축금융보험은 저축과 금융을 통해 목돈 마련에 도움을 주는 보험입니다. 또한, 사망 보장 기능도 제공합니다.\n",
            "\n",
            "Query: 금융 보험\n",
            "BM25: 금융보험은 장기적인 자산 관리와 위험 대비를 목적으로 고안된 금융 상품입니다.\n",
            "Kiwi_BM25: 저축금융보험은 저축과 금융을 통해 목돈 마련에 도움을 주는 보험입니다. 또한, 사망 보장 기능도 제공합니다.\n",
            "\n",
            "Query: 금융저축보험\n",
            "BM25: 금융보씨 험한말 좀 하지마시고, 저축이나 좀 하시던가요. 뭐가 그리 급하신지 모르겠네요.\n",
            "Kiwi_BM25: 저축금융보험은 저축과 금융을 통해 목돈 마련에 도움을 주는 보험입니다. 또한, 사망 보장 기능도 제공합니다.\n",
            "\n",
            "Query: 축산물 보험\n",
            "BM25: 금융저축산물보험은 장기적인 저축 목적과 더불어, 축산물 제공 기능을 갖추고 있는 특별 금융 상품입니다.\n",
            "Kiwi_BM25: 금융저축산물보험은 장기적인 저축 목적과 더불어, 축산물 제공 기능을 갖추고 있는 특별 금융 상품입니다.\n",
            "\n",
            "Query: 저축금융보험\n",
            "BM25: 금융보씨 험한말 좀 하지마시고, 저축이나 좀 하시던가요. 뭐가 그리 급하신지 모르겠네요.\n",
            "Kiwi_BM25: 저축금융보험은 저축과 금융을 통해 목돈 마련에 도움을 주는 보험입니다. 또한, 사망 보장 기능도 제공합니다.\n",
            "\n",
            "Query: 금융보씨 개인정보 조회\n",
            "BM25: 금융보씨 험한말 좀 하지마시고, 저축이나 좀 하시던가요. 뭐가 그리 급하신지 모르겠네요.\n",
            "Kiwi_BM25: 금융보씨 험한말 좀 하지마시고, 저축이나 좀 하시던가요. 뭐가 그리 급하신지 모르겠네요.\n",
            "\n"
          ]
        }
      ],
      "source": [
        "\n",
        "print_search_results(\"금융보험\")\n",
        "print_search_results(\"금융 보험\")\n",
        "print_search_results(\"금융저축보험\")\n",
        "print_search_results(\"축산물 보험\")\n",
        "print_search_results(\"저축금융보험\")\n",
        "print_search_results(\"금융보씨 개인정보 조회\")"
      ]
    },
    {
      "cell_type": "code",
      "execution_count": null,
      "metadata": {
        "id": "msUIZXt0eg5B"
      },
      "outputs": [],
      "source": []
    }
  ],
  "metadata": {
    "accelerator": "GPU",
    "colab": {
      "gpuType": "A100",
      "machine_shape": "hm",
      "provenance": []
    },
    "kernelspec": {
      "display_name": "Python 3",
      "name": "python3"
    },
    "language_info": {
      "codemirror_mode": {
        "name": "ipython",
        "version": 3
      },
      "file_extension": ".py",
      "mimetype": "text/x-python",
      "name": "python",
      "nbconvert_exporter": "python",
      "pygments_lexer": "ipython3",
      "version": "3.11.9"
    }
  },
  "nbformat": 4,
  "nbformat_minor": 0
}
